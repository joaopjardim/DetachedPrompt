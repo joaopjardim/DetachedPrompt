{
 "cells": [
  {
   "cell_type": "markdown",
   "metadata": {},
   "source": [
    "#### Prompt Destacado -> Como começar o monitoramento das suas LLM's através dos seus prompts utilizando watsonx.AI e OpenScale"
   ]
  },
  {
   "cell_type": "markdown",
   "metadata": {},
   "source": [
    "##### Neste guia, utilizaremos um prompt de summarização focado em resumir chamados de um call center. Tanto o prompt quanto a base de dados foram gerados através de IA generativa."
   ]
  },
  {
   "cell_type": "markdown",
   "metadata": {},
   "source": [
    "###### A ideia principal aqui é demonstrar a possibilidade de subir um prompt, de qualquer provedor de LLM, no watsonx.ai para futuramente começarmos a monitorar e gerar métricas para avaliarmos o desempenho do prompt/modelo."
   ]
  },
  {
   "cell_type": "code",
   "execution_count": 2,
   "metadata": {
    "id": "2149f6e2-5c4f-4934-b7dc-94b3334b41cf"
   },
   "outputs": [
    {
     "name": "stdout",
     "output_type": "stream",
     "text": [
      "Requirement already satisfied: ibm-aigov-facts-client in c:\\users\\joaojardim\\appdata\\local\\programs\\python\\python312\\lib\\site-packages (1.0.98)\n",
      "Requirement already satisfied: pandas in c:\\users\\joaojardim\\appdata\\local\\programs\\python\\python312\\lib\\site-packages (from ibm-aigov-facts-client) (2.2.3)\n",
      "Requirement already satisfied: numpy in c:\\users\\joaojardim\\appdata\\local\\programs\\python\\python312\\lib\\site-packages (from ibm-aigov-facts-client) (2.0.2)\n",
      "Requirement already satisfied: mlflow-skinny==2.20.1 in c:\\users\\joaojardim\\appdata\\local\\programs\\python\\python312\\lib\\site-packages (from ibm-aigov-facts-client) (2.20.1)\n",
      "Requirement already satisfied: requests<3.0,>=2.0 in c:\\users\\joaojardim\\appdata\\local\\programs\\python\\python312\\lib\\site-packages (from ibm-aigov-facts-client) (2.32.2)\n",
      "Requirement already satisfied: ibm-cloud-sdk-core==3.24.2 in c:\\users\\joaojardim\\appdata\\local\\programs\\python\\python312\\lib\\site-packages (from ibm-aigov-facts-client) (3.24.2)\n",
      "Requirement already satisfied: sqlparse>=0.3.1 in c:\\users\\joaojardim\\appdata\\local\\programs\\python\\python312\\lib\\site-packages (from ibm-aigov-facts-client) (0.5.3)\n",
      "Requirement already satisfied: docutils<0.16,>=0.10 in c:\\users\\joaojardim\\appdata\\local\\programs\\python\\python312\\lib\\site-packages (from ibm-aigov-facts-client) (0.15.2)\n",
      "Requirement already satisfied: timeout_decorator in c:\\users\\joaojardim\\appdata\\local\\programs\\python\\python312\\lib\\site-packages (from ibm-aigov-facts-client) (0.5.0)\n",
      "Requirement already satisfied: python-magic in c:\\users\\joaojardim\\appdata\\local\\programs\\python\\python312\\lib\\site-packages (from ibm-aigov-facts-client) (0.4.27)\n",
      "Requirement already satisfied: pillow in c:\\users\\joaojardim\\appdata\\local\\programs\\python\\python312\\lib\\site-packages (from ibm-aigov-facts-client) (11.0.0)\n",
      "Requirement already satisfied: boto3 in c:\\users\\joaojardim\\appdata\\local\\programs\\python\\python312\\lib\\site-packages (from ibm-aigov-facts-client) (1.40.17)\n",
      "Collecting requests<3.0,>=2.0 (from ibm-aigov-facts-client)\n",
      "  Using cached requests-2.32.5-py3-none-any.whl.metadata (4.9 kB)\n",
      "Requirement already satisfied: urllib3<3.0.0,>=2.4.0 in c:\\users\\joaojardim\\appdata\\local\\programs\\python\\python312\\lib\\site-packages (from ibm-cloud-sdk-core==3.24.2->ibm-aigov-facts-client) (2.5.0)\n",
      "Requirement already satisfied: python_dateutil<3.0.0,>=2.9.0 in c:\\users\\joaojardim\\appdata\\local\\programs\\python\\python312\\lib\\site-packages (from ibm-cloud-sdk-core==3.24.2->ibm-aigov-facts-client) (2.9.0.post0)\n",
      "Requirement already satisfied: PyJWT<3.0.0,>=2.10.1 in c:\\users\\joaojardim\\appdata\\local\\programs\\python\\python312\\lib\\site-packages (from ibm-cloud-sdk-core==3.24.2->ibm-aigov-facts-client) (2.10.1)\n",
      "Requirement already satisfied: cachetools<6,>=5.0.0 in c:\\users\\joaojardim\\appdata\\local\\programs\\python\\python312\\lib\\site-packages (from mlflow-skinny==2.20.1->ibm-aigov-facts-client) (5.5.2)\n",
      "Requirement already satisfied: click<9,>=7.0 in c:\\users\\joaojardim\\appdata\\local\\programs\\python\\python312\\lib\\site-packages (from mlflow-skinny==2.20.1->ibm-aigov-facts-client) (8.1.8)\n",
      "Requirement already satisfied: cloudpickle<4 in c:\\users\\joaojardim\\appdata\\local\\programs\\python\\python312\\lib\\site-packages (from mlflow-skinny==2.20.1->ibm-aigov-facts-client) (3.1.1)\n",
      "Requirement already satisfied: databricks-sdk<1,>=0.20.0 in c:\\users\\joaojardim\\appdata\\local\\programs\\python\\python312\\lib\\site-packages (from mlflow-skinny==2.20.1->ibm-aigov-facts-client) (0.57.0)\n",
      "Requirement already satisfied: gitpython<4,>=3.1.9 in c:\\users\\joaojardim\\appdata\\local\\programs\\python\\python312\\lib\\site-packages (from mlflow-skinny==2.20.1->ibm-aigov-facts-client) (3.1.44)\n",
      "Requirement already satisfied: importlib_metadata!=4.7.0,<9,>=3.7.0 in c:\\users\\joaojardim\\appdata\\local\\programs\\python\\python312\\lib\\site-packages (from mlflow-skinny==2.20.1->ibm-aigov-facts-client) (8.6.1)\n",
      "Requirement already satisfied: opentelemetry-api<3,>=1.9.0 in c:\\users\\joaojardim\\appdata\\local\\programs\\python\\python312\\lib\\site-packages (from mlflow-skinny==2.20.1->ibm-aigov-facts-client) (1.31.1)\n",
      "Requirement already satisfied: opentelemetry-sdk<3,>=1.9.0 in c:\\users\\joaojardim\\appdata\\local\\programs\\python\\python312\\lib\\site-packages (from mlflow-skinny==2.20.1->ibm-aigov-facts-client) (1.31.1)\n",
      "Requirement already satisfied: packaging<25 in c:\\users\\joaojardim\\appdata\\local\\programs\\python\\python312\\lib\\site-packages (from mlflow-skinny==2.20.1->ibm-aigov-facts-client) (24.2)\n",
      "Requirement already satisfied: protobuf<6,>=3.12.0 in c:\\users\\joaojardim\\appdata\\local\\programs\\python\\python312\\lib\\site-packages (from mlflow-skinny==2.20.1->ibm-aigov-facts-client) (5.29.4)\n",
      "Requirement already satisfied: pydantic<3,>=1.0 in c:\\users\\joaojardim\\appdata\\local\\programs\\python\\python312\\lib\\site-packages (from mlflow-skinny==2.20.1->ibm-aigov-facts-client) (2.10.6)\n",
      "Requirement already satisfied: pyyaml<7,>=5.1 in c:\\users\\joaojardim\\appdata\\local\\programs\\python\\python312\\lib\\site-packages (from mlflow-skinny==2.20.1->ibm-aigov-facts-client) (6.0.2)\n",
      "Requirement already satisfied: typing-extensions<5,>=4.0.0 in c:\\users\\joaojardim\\appdata\\local\\programs\\python\\python312\\lib\\site-packages (from mlflow-skinny==2.20.1->ibm-aigov-facts-client) (4.12.2)\n",
      "Requirement already satisfied: charset_normalizer<4,>=2 in c:\\users\\joaojardim\\appdata\\local\\programs\\python\\python312\\lib\\site-packages (from requests<3.0,>=2.0->ibm-aigov-facts-client) (3.3.2)\n",
      "Requirement already satisfied: idna<4,>=2.5 in c:\\users\\joaojardim\\appdata\\local\\programs\\python\\python312\\lib\\site-packages (from requests<3.0,>=2.0->ibm-aigov-facts-client) (3.10)\n",
      "Requirement already satisfied: certifi>=2017.4.17 in c:\\users\\joaojardim\\appdata\\local\\programs\\python\\python312\\lib\\site-packages (from requests<3.0,>=2.0->ibm-aigov-facts-client) (2025.6.15)\n",
      "Requirement already satisfied: botocore<1.41.0,>=1.40.17 in c:\\users\\joaojardim\\appdata\\local\\programs\\python\\python312\\lib\\site-packages (from boto3->ibm-aigov-facts-client) (1.40.17)\n",
      "Requirement already satisfied: jmespath<2.0.0,>=0.7.1 in c:\\users\\joaojardim\\appdata\\local\\programs\\python\\python312\\lib\\site-packages (from boto3->ibm-aigov-facts-client) (1.0.1)\n",
      "Requirement already satisfied: s3transfer<0.14.0,>=0.13.0 in c:\\users\\joaojardim\\appdata\\local\\programs\\python\\python312\\lib\\site-packages (from boto3->ibm-aigov-facts-client) (0.13.1)\n",
      "Requirement already satisfied: pytz>=2020.1 in c:\\users\\joaojardim\\appdata\\local\\programs\\python\\python312\\lib\\site-packages (from pandas->ibm-aigov-facts-client) (2025.2)\n",
      "Requirement already satisfied: tzdata>=2022.7 in c:\\users\\joaojardim\\appdata\\local\\programs\\python\\python312\\lib\\site-packages (from pandas->ibm-aigov-facts-client) (2025.1)\n",
      "Requirement already satisfied: colorama in c:\\users\\joaojardim\\appdata\\local\\programs\\python\\python312\\lib\\site-packages (from click<9,>=7.0->mlflow-skinny==2.20.1->ibm-aigov-facts-client) (0.4.6)\n",
      "Requirement already satisfied: google-auth~=2.0 in c:\\users\\joaojardim\\appdata\\local\\programs\\python\\python312\\lib\\site-packages (from databricks-sdk<1,>=0.20.0->mlflow-skinny==2.20.1->ibm-aigov-facts-client) (2.38.0)\n",
      "Requirement already satisfied: gitdb<5,>=4.0.1 in c:\\users\\joaojardim\\appdata\\local\\programs\\python\\python312\\lib\\site-packages (from gitpython<4,>=3.1.9->mlflow-skinny==2.20.1->ibm-aigov-facts-client) (4.0.12)\n",
      "Requirement already satisfied: zipp>=3.20 in c:\\users\\joaojardim\\appdata\\local\\programs\\python\\python312\\lib\\site-packages (from importlib_metadata!=4.7.0,<9,>=3.7.0->mlflow-skinny==2.20.1->ibm-aigov-facts-client) (3.21.0)\n",
      "Requirement already satisfied: deprecated>=1.2.6 in c:\\users\\joaojardim\\appdata\\local\\programs\\python\\python312\\lib\\site-packages (from opentelemetry-api<3,>=1.9.0->mlflow-skinny==2.20.1->ibm-aigov-facts-client) (1.2.18)\n",
      "Requirement already satisfied: opentelemetry-semantic-conventions==0.52b1 in c:\\users\\joaojardim\\appdata\\local\\programs\\python\\python312\\lib\\site-packages (from opentelemetry-sdk<3,>=1.9.0->mlflow-skinny==2.20.1->ibm-aigov-facts-client) (0.52b1)\n",
      "Requirement already satisfied: annotated-types>=0.6.0 in c:\\users\\joaojardim\\appdata\\local\\programs\\python\\python312\\lib\\site-packages (from pydantic<3,>=1.0->mlflow-skinny==2.20.1->ibm-aigov-facts-client) (0.7.0)\n",
      "Requirement already satisfied: pydantic-core==2.27.2 in c:\\users\\joaojardim\\appdata\\local\\programs\\python\\python312\\lib\\site-packages (from pydantic<3,>=1.0->mlflow-skinny==2.20.1->ibm-aigov-facts-client) (2.27.2)\n",
      "Requirement already satisfied: six>=1.5 in c:\\users\\joaojardim\\appdata\\local\\programs\\python\\python312\\lib\\site-packages (from python_dateutil<3.0.0,>=2.9.0->ibm-cloud-sdk-core==3.24.2->ibm-aigov-facts-client) (1.16.0)\n",
      "Requirement already satisfied: wrapt<2,>=1.10 in c:\\users\\joaojardim\\appdata\\local\\programs\\python\\python312\\lib\\site-packages (from deprecated>=1.2.6->opentelemetry-api<3,>=1.9.0->mlflow-skinny==2.20.1->ibm-aigov-facts-client) (1.17.2)\n",
      "Requirement already satisfied: smmap<6,>=3.0.1 in c:\\users\\joaojardim\\appdata\\local\\programs\\python\\python312\\lib\\site-packages (from gitdb<5,>=4.0.1->gitpython<4,>=3.1.9->mlflow-skinny==2.20.1->ibm-aigov-facts-client) (5.0.2)\n",
      "Requirement already satisfied: pyasn1-modules>=0.2.1 in c:\\users\\joaojardim\\appdata\\local\\programs\\python\\python312\\lib\\site-packages (from google-auth~=2.0->databricks-sdk<1,>=0.20.0->mlflow-skinny==2.20.1->ibm-aigov-facts-client) (0.4.2)\n",
      "Requirement already satisfied: rsa<5,>=3.1.4 in c:\\users\\joaojardim\\appdata\\local\\programs\\python\\python312\\lib\\site-packages (from google-auth~=2.0->databricks-sdk<1,>=0.20.0->mlflow-skinny==2.20.1->ibm-aigov-facts-client) (4.9)\n",
      "Requirement already satisfied: pyasn1<0.7.0,>=0.6.1 in c:\\users\\joaojardim\\appdata\\local\\programs\\python\\python312\\lib\\site-packages (from pyasn1-modules>=0.2.1->google-auth~=2.0->databricks-sdk<1,>=0.20.0->mlflow-skinny==2.20.1->ibm-aigov-facts-client) (0.6.1)\n",
      "Using cached requests-2.32.5-py3-none-any.whl (64 kB)\n",
      "Installing collected packages: requests\n",
      "  Attempting uninstall: requests\n",
      "    Found existing installation: requests 2.32.2\n",
      "    Uninstalling requests-2.32.2:\n",
      "      Successfully uninstalled requests-2.32.2\n",
      "Successfully installed requests-2.32.5\n"
     ]
    },
    {
     "name": "stderr",
     "output_type": "stream",
     "text": [
      "ERROR: pip's dependency resolver does not currently take into account all the packages that are installed. This behaviour is the source of the following dependency conflicts.\n",
      "ibm-cos-sdk-core 2.13.6 requires requests<2.32.3,>=2.32.0, but you have requests 2.32.5 which is incompatible.\n",
      "ibm-watson-machine-learning 1.0.367 requires pandas<2.2.0,>=0.24.2, but you have pandas 2.2.3 which is incompatible.\n",
      "\n",
      "[notice] A new release of pip is available: 24.2 -> 25.2\n",
      "[notice] To update, run: python.exe -m pip install --upgrade pip\n"
     ]
    }
   ],
   "source": [
    "### Instalando biblioteca necessária\n",
    "!pip install --upgrade ibm-aigov-facts-client"
   ]
  },
  {
   "cell_type": "code",
   "execution_count": 1,
   "metadata": {},
   "outputs": [
    {
     "data": {
      "text/plain": [
       "True"
      ]
     },
     "execution_count": 1,
     "metadata": {},
     "output_type": "execute_result"
    }
   ],
   "source": [
    "#### Dotenv para lermor nossas chaves\n",
    "import os\n",
    "from dotenv import load_dotenv\n",
    "load_dotenv()"
   ]
  },
  {
   "cell_type": "code",
   "execution_count": 2,
   "metadata": {},
   "outputs": [],
   "source": [
    "#### Chaves necessárias\n",
    "API_KEY = os.getenv('API_KEY') ### Chave de API do IAM da IBM Cloud\n",
    "SPACE_ID = os.getenv('SPACE_ID') ### ID referente ao espaço de implementação criado dentro do watsonx ai\n",
    "PROJECT_ID = os.getenv('PROJECT_ID') ### Esse ID é referente ao ID do projeto criado dentro do watsonx ai\n",
    "OPENSCALE_ID = os.getenv('OPENSCALE_ID') ### Esse ID é encontrado nas definições da sua instancia do Watson Openscale na IBM Cloud\n",
    "ML_URL = \"https://us-south.ml.cloud.ibm.com\"\n",
    "IAM_URL=\"https://iam.ng.bluemix.net/oidc/token\"\n",
    "OPENSCALE_API_URL = \"https://api.aiopenscale.cloud.ibm.com\""
   ]
  },
  {
   "cell_type": "code",
   "execution_count": 4,
   "metadata": {
    "id": "fbd8afe9-0f9d-461e-bd5c-ef6e0839e88b"
   },
   "outputs": [],
   "source": [
    "#### Aqui faremos a conexão com o watsonx.governance através da nossa APIKEY e PROJECT id\n",
    "\n",
    "from ibm_aigov_facts_client import AIGovFactsClient\n",
    "\n",
    "facts_client = AIGovFactsClient(\n",
    "    #region=\"dallas\", ### Caso sua conta da ibm cloud estiver em outro região -> descomentar essa linha e alterar a região\n",
    "    api_key=API_KEY,\n",
    "    container_id=PROJECT_ID,\n",
    "    container_type=\"project\",\n",
    "    disable_tracing=True\n",
    ")"
   ]
  },
  {
   "cell_type": "code",
   "execution_count": 5,
   "metadata": {
    "id": "dbd2aa6e-85bb-43f7-b8b3-25c8d5e8889b"
   },
   "outputs": [],
   "source": [
    "### Anexamos então o nosso prompt em si juntamente com algum dos seus metadados, como o provedor, o nome do modelo e etc.\n",
    "### Vale ressaltar aqui tambem a importancia de especificarmos o tipo de prompt que temos aqui - no nosso exemplo se trata de summarization - \n",
    "\n",
    "from ibm_aigov_facts_client import DetachedPromptTemplate, PromptTemplate\n",
    "\n",
    "detached_information = DetachedPromptTemplate(\n",
    "    prompt_id=\"detached_prompt\",\n",
    "    model_id=\"openai/gpt-4o-2024-08-06\",\n",
    "    model_provider=\"OpenAI\",\n",
    "    model_name=\"gpt-4o\",\n",
    "    model_url=\"https://platform.openai.com/docs/models/gpt-4o\",\n",
    "    prompt_url=\"prompt_url\",\n",
    "    prompt_additional_info={\"model_owner\": \"João Jardim\"}\n",
    ")\n",
    "\n",
    "task_id = \"summarization\" ### Aqui você muda para o seu caso de uso, por exemplo summarization e etc\n",
    "name = \"Sumarização de transcrições de call center\"\n",
    "description = \"Prompt para sumarizar conversa entre atendente e cliente.\"\n",
    "model_id = \"openai/gpt-4o-2024-08-06\"\n",
    "\n",
    "# define parameters for PromptTemplate\n",
    "prompt_variables = {\"transcription\": \"\"}\n",
    "input_prefix= \"\"\"\n",
    "[START_SYSTEM_PROMPT] Você é um assistente especialista em análise e resumo de atendimentos de call center. Sua tarefa é ler a transcrição abaixo e gerar uma sumarização clara, objetiva e profissional da interação.\n",
    "\n",
    "### Diretrizes da sumarização:\n",
    "1. A sumarização deve conter os seguintes pontos:\n",
    "   -  Motivo do contato do cliente.\n",
    "   -  Ações executadas pelo atendente.\n",
    "   -  Solução final (se houve).\n",
    "   -  Se aplicável, status pendente ou necessidade de retorno.\n",
    "\n",
    "2. A sumarização deve ser escrita em terceira pessoa, formal e objetiva.\n",
    "\n",
    "3. Utilize uma linguagem clara e sem repetir trechos da conversa literal.\n",
    "\n",
    "---\n",
    ".\n",
    "\"\"\"\n",
    "input_prompt = \"\"\"\n",
    "Aqui vai o seu prompt\n",
    "[END_SYSTEM_PROMPT] \n",
    "[START_USER_PROMPT] ### Transcrição:{transcription}[END_USER_PROMPT]\n",
    "\"\"\"\n",
    "output_prefix= \"\"\"\n",
    "### Sumarização:\n",
    "\"\"\"\n",
    "\n",
    "### Depois de declararmos tudo, utilzaremos essa classe importada anteriormente\n",
    "prompt_template = PromptTemplate(\n",
    "    input=input_prompt,\n",
    "    prompt_variables=prompt_variables,\n",
    "    input_prefix=input_prefix,\n",
    "    output_prefix=output_prefix\n",
    ")"
   ]
  },
  {
   "cell_type": "code",
   "execution_count": 6,
   "metadata": {
    "id": "c8fd070d-e9e6-4de8-aa2b-f3aa823d5d0f"
   },
   "outputs": [
    {
     "name": "stdout",
     "output_type": "stream",
     "text": [
      "2025/09/03 09:12:01 INFO : ------------------------------ Detached Prompt Creation Started ------------------------------\n",
      "2025/09/03 09:12:05 INFO : The detached prompt with ID 6f0f52eb-ad94-4d75-85ff-c472a1e53e9c was created successfully in container_id 2024c1b2-db60-4363-801c-b6032b026432.\n"
     ]
    }
   ],
   "source": [
    "# Agora que temos nossa classe podemos de fato enviar nosso prompt para o watsonx.ai através da seguinte função:\n",
    "\n",
    "pta_details = facts_client.assets.create_detached_prompt(\n",
    "    model_id=model_id,\n",
    "    task_id=task_id,\n",
    "    name=name,\n",
    "    description=description,\n",
    "    prompt_details=prompt_template,\n",
    "    detached_information=detached_information\n",
    ")\n",
    "project_pta_id = pta_details.to_dict()[\"asset_id\"]"
   ]
  },
  {
   "cell_type": "code",
   "execution_count": null,
   "metadata": {
    "id": "80c8ee6a-dc3d-4ac9-a246-3fe76adfd8e7"
   },
   "outputs": [],
   "source": []
  },
  {
   "cell_type": "code",
   "execution_count": null,
   "metadata": {},
   "outputs": [],
   "source": []
  },
  {
   "cell_type": "code",
   "execution_count": null,
   "metadata": {},
   "outputs": [],
   "source": []
  }
 ],
 "metadata": {
  "kernelspec": {
   "display_name": "Python 3 (ipykernel)",
   "language": "python",
   "name": "python3"
  },
  "language_info": {
   "codemirror_mode": {
    "name": "ipython",
    "version": 3
   },
   "file_extension": ".py",
   "mimetype": "text/x-python",
   "name": "python",
   "nbconvert_exporter": "python",
   "pygments_lexer": "ipython3",
   "version": "3.12.6"
  }
 },
 "nbformat": 4,
 "nbformat_minor": 4
}
